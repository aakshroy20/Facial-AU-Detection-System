{
  "nbformat": 4,
  "nbformat_minor": 0,
  "metadata": {
    "colab": {
      "name": "FacialAUClassification.ipynb",
      "provenance": [],
      "toc_visible": true
    },
    "kernelspec": {
      "name": "python3",
      "display_name": "Python 3"
    },
    "accelerator": "GPU"
  },
  "cells": [
    {
      "cell_type": "code",
      "metadata": {
        "id": "f06aaemmBwd1",
        "colab_type": "code",
        "colab": {}
      },
      "source": [
        "#Facial AU System\n"
      ],
      "execution_count": 0,
      "outputs": []
    },
    {
      "cell_type": "code",
      "metadata": {
        "id": "TM67SXAxB-NS",
        "colab_type": "code",
        "colab": {
          "base_uri": "https://localhost:8080/",
          "height": 81
        },
        "outputId": "a689d0fb-4b28-4f8f-9559-219671f5e04c"
      },
      "source": [
        "from keras.models import Sequential\n",
        "from keras.layers import Dense"
      ],
      "execution_count": 3,
      "outputs": [
        {
          "output_type": "stream",
          "text": [
            "Using TensorFlow backend.\n"
          ],
          "name": "stderr"
        },
        {
          "output_type": "display_data",
          "data": {
            "text/html": [
              "<p style=\"color: red;\">\n",
              "The default version of TensorFlow in Colab will soon switch to TensorFlow 2.x.<br>\n",
              "We recommend you <a href=\"https://www.tensorflow.org/guide/migrate\" target=\"_blank\">upgrade</a> now \n",
              "or ensure your notebook will continue to use TensorFlow 1.x via the <code>%tensorflow_version 1.x</code> magic:\n",
              "<a href=\"https://colab.research.google.com/notebooks/tensorflow_version.ipynb\" target=\"_blank\">more info</a>.</p>\n"
            ],
            "text/plain": [
              "<IPython.core.display.HTML object>"
            ]
          },
          "metadata": {
            "tags": []
          }
        }
      ]
    },
    {
      "cell_type": "code",
      "metadata": {
        "id": "DuFXYIBSB2_E",
        "colab_type": "code",
        "colab": {}
      },
      "source": [
        "import pandas as pd"
      ],
      "execution_count": 0,
      "outputs": []
    },
    {
      "cell_type": "code",
      "metadata": {
        "id": "0EUxy_igECH5",
        "colab_type": "code",
        "colab": {}
      },
      "source": [
        "X=pd.read_csv('predx_for_classification.csv')"
      ],
      "execution_count": 0,
      "outputs": []
    },
    {
      "cell_type": "code",
      "metadata": {
        "id": "UASy6DrsEN7L",
        "colab_type": "code",
        "colab": {}
      },
      "source": [
        "Y=pd.read_csv('predy_for_classification.csv')"
      ],
      "execution_count": 0,
      "outputs": []
    },
    {
      "cell_type": "markdown",
      "metadata": {
        "id": "FegYfXx_wslI",
        "colab_type": "text"
      },
      "source": [
        "# New Section"
      ]
    },
    {
      "cell_type": "code",
      "metadata": {
        "id": "JZWGSUboEkOQ",
        "colab_type": "code",
        "colab": {}
      },
      "source": [
        "label=pd.read_csv('label.csv')"
      ],
      "execution_count": 0,
      "outputs": []
    },
    {
      "cell_type": "code",
      "metadata": {
        "id": "ynDR4_dKE2I7",
        "colab_type": "code",
        "colab": {}
      },
      "source": [
        "import numpy as np"
      ],
      "execution_count": 0,
      "outputs": []
    },
    {
      "cell_type": "code",
      "metadata": {
        "id": "0OGgITtTErmu",
        "colab_type": "code",
        "colab": {}
      },
      "source": [
        "X_array=np.asarray(X,dtype=float)"
      ],
      "execution_count": 0,
      "outputs": []
    },
    {
      "cell_type": "code",
      "metadata": {
        "id": "WVdecIdIE9m4",
        "colab_type": "code",
        "colab": {}
      },
      "source": [
        "Y_array=np.asarray(Y,dtype=float)"
      ],
      "execution_count": 0,
      "outputs": []
    },
    {
      "cell_type": "code",
      "metadata": {
        "id": "_stfbApdFa1O",
        "colab_type": "code",
        "colab": {}
      },
      "source": [
        "input_data=np.concatenate((X_array,Y_array),axis=1)"
      ],
      "execution_count": 0,
      "outputs": []
    },
    {
      "cell_type": "code",
      "metadata": {
        "id": "i-OdybErFqty",
        "colab_type": "code",
        "colab": {}
      },
      "source": [
        "angle_array=np.asarray(label,dtype=float)"
      ],
      "execution_count": 0,
      "outputs": []
    },
    {
      "cell_type": "markdown",
      "metadata": {
        "id": "QrbW6oMEY1Tt",
        "colab_type": "text"
      },
      "source": [
        "Now we will have to scale our input because there are lot of outliers which is leading to a very bad accuracy while using keras so we are using Robust Scaler on  input_data "
      ]
    },
    {
      "cell_type": "code",
      "metadata": {
        "id": "xZ2UC6vxYth0",
        "colab_type": "code",
        "colab": {}
      },
      "source": [
        "from sklearn.preprocessing import RobustScaler"
      ],
      "execution_count": 0,
      "outputs": []
    },
    {
      "cell_type": "code",
      "metadata": {
        "id": "GRievfxYZPvJ",
        "colab_type": "code",
        "colab": {}
      },
      "source": [
        "ro_scale=RobustScaler()\n",
        "input_data=ro_scale.fit_transform(input_data)"
      ],
      "execution_count": 0,
      "outputs": []
    },
    {
      "cell_type": "code",
      "metadata": {
        "id": "5foKHPoGGF0P",
        "colab_type": "code",
        "colab": {}
      },
      "source": [
        "model=Sequential()\n",
        "model.add(Dense(147,input_dim=98,activation='relu'))\n",
        "model.add(Dense(74,activation='relu'))\n",
        "model.add(Dense(50,activation='relu'))\n",
        "model.add(Dense(50,activation='relu'))\n",
        "model.add(Dense(5,activation='sigmoid'))"
      ],
      "execution_count": 0,
      "outputs": []
    },
    {
      "cell_type": "code",
      "metadata": {
        "id": "T_8EhRx-Hrry",
        "colab_type": "code",
        "colab": {}
      },
      "source": [
        "model.compile(loss='binary_crossentropy',optimizer='Adam',metrics=['accuracy'])"
      ],
      "execution_count": 0,
      "outputs": []
    },
    {
      "cell_type": "code",
      "metadata": {
        "id": "3JXgPG68IY95",
        "colab_type": "code",
        "colab": {}
      },
      "source": [
        "from sklearn.model_selection import train_test_split\n",
        "input_train,input_test=train_test_split(input_data,test_size=0.2)"
      ],
      "execution_count": 0,
      "outputs": []
    },
    {
      "cell_type": "code",
      "metadata": {
        "id": "X-pyqbnvIun9",
        "colab_type": "code",
        "colab": {}
      },
      "source": [
        "angle_array_train,angle_array_test=train_test_split(angle_array,test_size=0.2)"
      ],
      "execution_count": 0,
      "outputs": []
    },
    {
      "cell_type": "code",
      "metadata": {
        "id": "vMuz36ZtJJov",
        "colab_type": "code",
        "colab": {}
      },
      "source": [
        "model.fit(input_train,angle_array_train,epochs=150)"
      ],
      "execution_count": 0,
      "outputs": []
    },
    {
      "cell_type": "code",
      "metadata": {
        "id": "jpQHXg5XJUnP",
        "colab_type": "code",
        "colab": {}
      },
      "source": [
        "import matplotlib.pyplot as plt\n"
      ],
      "execution_count": 0,
      "outputs": []
    },
    {
      "cell_type": "code",
      "metadata": {
        "id": "W8CQA32YO7-v",
        "colab_type": "code",
        "colab": {}
      },
      "source": [
        "for i in range(1,5):\n",
        "  plt.scatter(Y_array[i],X_array[i])"
      ],
      "execution_count": 0,
      "outputs": []
    },
    {
      "cell_type": "code",
      "metadata": {
        "id": "COitkE_RPDha",
        "colab_type": "code",
        "colab": {}
      },
      "source": [
        "from sklearn.model_selection import KFold\n",
        "k=10\n",
        "kf=KFold(n_splits=k)\n",
        "Accuracy_List=[]\n",
        "no_of_epoch=100"
      ],
      "execution_count": 0,
      "outputs": []
    },
    {
      "cell_type": "code",
      "metadata": {
        "id": "Lpx_28wwYgEN",
        "colab_type": "code",
        "colab": {}
      },
      "source": [
        "for train_index,test_index in kf.split(angle_array):\n",
        "  print('Train: ',train_index,'Test: ',test_index)\n",
        "  X_train,X_test=input_data[train_index],input_data[test_index]\n",
        "  Y_train,y_test=angle_array[train_index],angle_array[test_index]\n",
        "  model=Sequential()\n",
        "  model.add(Dense(147,input_dim=98,activation='relu'))\n",
        "  model.add(Dense(74,activation='relu'))\n",
        "  model.add(Dense(50,activation='relu'))\n",
        "  model.add(Dense(50,activation='relu'))\n",
        "  model.add(Dense(5,activation='sigmoid'))\n",
        "  model.compile(loss='binary_crossentropy',optimizer='Adam',metrics=['accuracy'])\n",
        "  model.fit(X_train,Y_train,epochs=50)\n",
        "  score=model.evaluate(X_test,y_test)\n",
        "  Accuracy_List.append(score)\n",
        "print(Accuracy_List)\n"
      ],
      "execution_count": 0,
      "outputs": []
    },
    {
      "cell_type": "code",
      "metadata": {
        "id": "hLOg1iGIjAv0",
        "colab_type": "code",
        "colab": {}
      },
      "source": [
        "from sklearn.tree import DecisionTreeClassifier "
      ],
      "execution_count": 0,
      "outputs": []
    },
    {
      "cell_type": "code",
      "metadata": {
        "id": "xPLOXGu4rrwH",
        "colab_type": "code",
        "colab": {}
      },
      "source": [
        "clf=DecisionTreeClassifier()"
      ],
      "execution_count": 0,
      "outputs": []
    },
    {
      "cell_type": "code",
      "metadata": {
        "id": "hOSKwOl2r3R5",
        "colab_type": "code",
        "colab": {
          "base_uri": "https://localhost:8080/",
          "height": 123
        },
        "outputId": "bbe9bc1e-0523-45d9-f1b1-4d779a71fc1c"
      },
      "source": [
        "clf.fit(input_train,angle_array_train)"
      ],
      "execution_count": 16,
      "outputs": [
        {
          "output_type": "execute_result",
          "data": {
            "text/plain": [
              "DecisionTreeClassifier(ccp_alpha=0.0, class_weight=None, criterion='gini',\n",
              "                       max_depth=None, max_features=None, max_leaf_nodes=None,\n",
              "                       min_impurity_decrease=0.0, min_impurity_split=None,\n",
              "                       min_samples_leaf=1, min_samples_split=2,\n",
              "                       min_weight_fraction_leaf=0.0, presort='deprecated',\n",
              "                       random_state=None, splitter='best')"
            ]
          },
          "metadata": {
            "tags": []
          },
          "execution_count": 16
        }
      ]
    },
    {
      "cell_type": "code",
      "metadata": {
        "id": "aOkdJbArr-Jy",
        "colab_type": "code",
        "colab": {}
      },
      "source": [
        "output_test=clf.predict(input_test)"
      ],
      "execution_count": 0,
      "outputs": []
    },
    {
      "cell_type": "code",
      "metadata": {
        "id": "m-hzTXNXsUdF",
        "colab_type": "code",
        "colab": {}
      },
      "source": [
        "from sklearn.metrics import accuracy_score"
      ],
      "execution_count": 0,
      "outputs": []
    },
    {
      "cell_type": "code",
      "metadata": {
        "id": "ALDDChKZsZwR",
        "colab_type": "code",
        "colab": {
          "base_uri": "https://localhost:8080/",
          "height": 34
        },
        "outputId": "dd0529b5-01c0-40ec-9f65-9aa84d972532"
      },
      "source": [
        "accuracy_score(angle_array_test,output_test)"
      ],
      "execution_count": 19,
      "outputs": [
        {
          "output_type": "execute_result",
          "data": {
            "text/plain": [
              "0.07954888124962306"
            ]
          },
          "metadata": {
            "tags": []
          },
          "execution_count": 19
        }
      ]
    },
    {
      "cell_type": "code",
      "metadata": {
        "id": "YNI1mmbMsmCE",
        "colab_type": "code",
        "colab": {}
      },
      "source": [
        "from sklearn.metrics import classification_report"
      ],
      "execution_count": 0,
      "outputs": []
    },
    {
      "cell_type": "code",
      "metadata": {
        "id": "FQ3CB5z6svOt",
        "colab_type": "code",
        "colab": {}
      },
      "source": [
        "accuracy_score(angle_array_test[:,0],output_test[:,0])"
      ],
      "execution_count": 0,
      "outputs": []
    },
    {
      "cell_type": "code",
      "metadata": {
        "id": "FtYRxJ0Hs0PM",
        "colab_type": "code",
        "colab": {}
      },
      "source": [
        "report"
      ],
      "execution_count": 0,
      "outputs": []
    },
    {
      "cell_type": "code",
      "metadata": {
        "id": "YKLsuKWis8F9",
        "colab_type": "code",
        "colab": {}
      },
      "source": [
        "output_test"
      ],
      "execution_count": 0,
      "outputs": []
    },
    {
      "cell_type": "code",
      "metadata": {
        "id": "Z14fWP-BtTOX",
        "colab_type": "code",
        "colab": {}
      },
      "source": [
        "angle_array_test[:,0]"
      ],
      "execution_count": 0,
      "outputs": []
    },
    {
      "cell_type": "code",
      "metadata": {
        "id": "OQAXdypmtrkT",
        "colab_type": "code",
        "colab": {}
      },
      "source": [
        "output_test[:,0]"
      ],
      "execution_count": 0,
      "outputs": []
    },
    {
      "cell_type": "code",
      "metadata": {
        "id": "W0UFDMWmuzvw",
        "colab_type": "code",
        "colab": {}
      },
      "source": [
        "from sklearn.preprocessing import StandardScaler"
      ],
      "execution_count": 0,
      "outputs": []
    },
    {
      "cell_type": "code",
      "metadata": {
        "id": "kzf5t8SfvUra",
        "colab_type": "code",
        "colab": {}
      },
      "source": [
        "sc=StandardScaler()\n"
      ],
      "execution_count": 0,
      "outputs": []
    },
    {
      "cell_type": "code",
      "metadata": {
        "id": "lPjAfQ7QvX0A",
        "colab_type": "code",
        "colab": {}
      },
      "source": [
        "input_data=sc.fit_transform(input_data)"
      ],
      "execution_count": 0,
      "outputs": []
    },
    {
      "cell_type": "code",
      "metadata": {
        "id": "b4eYN-R6veYZ",
        "colab_type": "code",
        "colab": {}
      },
      "source": [
        "input_train,input_test,angle_array_train,angle_array_test=train_test_split(input_data,angle_array,test_size=0.2,random_state=42)"
      ],
      "execution_count": 0,
      "outputs": []
    },
    {
      "cell_type": "code",
      "metadata": {
        "id": "ov3tCQ1Dvscx",
        "colab_type": "code",
        "colab": {
          "base_uri": "https://localhost:8080/",
          "height": 123
        },
        "outputId": "543a96c1-197a-4c62-f1cd-e5b8c637ad45"
      },
      "source": [
        "clf.fit(input_train,angle_array_train)"
      ],
      "execution_count": 25,
      "outputs": [
        {
          "output_type": "execute_result",
          "data": {
            "text/plain": [
              "DecisionTreeClassifier(ccp_alpha=0.0, class_weight=None, criterion='gini',\n",
              "                       max_depth=None, max_features=None, max_leaf_nodes=None,\n",
              "                       min_impurity_decrease=0.0, min_impurity_split=None,\n",
              "                       min_samples_leaf=1, min_samples_split=2,\n",
              "                       min_weight_fraction_leaf=0.0, presort='deprecated',\n",
              "                       random_state=None, splitter='best')"
            ]
          },
          "metadata": {
            "tags": []
          },
          "execution_count": 25
        }
      ]
    },
    {
      "cell_type": "code",
      "metadata": {
        "id": "Ponz62BMvxWL",
        "colab_type": "code",
        "colab": {}
      },
      "source": [
        "pred=clf.predict(input_test)"
      ],
      "execution_count": 0,
      "outputs": []
    },
    {
      "cell_type": "code",
      "metadata": {
        "id": "0MjQi3Dqv8se",
        "colab_type": "code",
        "colab": {
          "base_uri": "https://localhost:8080/",
          "height": 34
        },
        "outputId": "0023a2a6-0f1c-49c9-b428-ade05a3439cb"
      },
      "source": [
        "accuracy_score(angle_array_test,pred)"
      ],
      "execution_count": 27,
      "outputs": [
        {
          "output_type": "execute_result",
          "data": {
            "text/plain": [
              "0.8668958446414571"
            ]
          },
          "metadata": {
            "tags": []
          },
          "execution_count": 27
        }
      ]
    },
    {
      "cell_type": "code",
      "metadata": {
        "id": "EGDwB3m9weUh",
        "colab_type": "code",
        "colab": {}
      },
      "source": [
        "from sklearn.svm import SVC"
      ],
      "execution_count": 0,
      "outputs": []
    },
    {
      "cell_type": "code",
      "metadata": {
        "id": "RRt8HsLxw9WO",
        "colab_type": "code",
        "colab": {}
      },
      "source": [
        "clf=SVC()"
      ],
      "execution_count": 0,
      "outputs": []
    },
    {
      "cell_type": "code",
      "metadata": {
        "id": "7wzvQKnzxBP6",
        "colab_type": "code",
        "colab": {
          "base_uri": "https://localhost:8080/",
          "height": 87
        },
        "outputId": "3ced0bdc-c390-406a-86e9-fb3eea840e4e"
      },
      "source": [
        "clf.fit(input_train,angle_array_train[:,0])"
      ],
      "execution_count": 30,
      "outputs": [
        {
          "output_type": "execute_result",
          "data": {
            "text/plain": [
              "SVC(C=1.0, break_ties=False, cache_size=200, class_weight=None, coef0=0.0,\n",
              "    decision_function_shape='ovr', degree=3, gamma='scale', kernel='rbf',\n",
              "    max_iter=-1, probability=False, random_state=None, shrinking=True,\n",
              "    tol=0.001, verbose=False)"
            ]
          },
          "metadata": {
            "tags": []
          },
          "execution_count": 30
        }
      ]
    },
    {
      "cell_type": "code",
      "metadata": {
        "id": "QrVilr6dxFut",
        "colab_type": "code",
        "colab": {}
      },
      "source": [
        "pred=clf.predict(input_test)"
      ],
      "execution_count": 0,
      "outputs": []
    },
    {
      "cell_type": "code",
      "metadata": {
        "id": "cRJy5RUPzinu",
        "colab_type": "code",
        "colab": {
          "base_uri": "https://localhost:8080/",
          "height": 34
        },
        "outputId": "f775a946-40c5-4fb6-c96c-b585079f94af"
      },
      "source": [
        "accuracy_score(angle_array_test[:,0],pred)"
      ],
      "execution_count": 32,
      "outputs": [
        {
          "output_type": "execute_result",
          "data": {
            "text/plain": [
              "0.8687654544358"
            ]
          },
          "metadata": {
            "tags": []
          },
          "execution_count": 32
        }
      ]
    }
  ]
}